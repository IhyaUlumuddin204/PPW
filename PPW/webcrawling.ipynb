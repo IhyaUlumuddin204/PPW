{
  "cells": [
    {
      "cell_type": "markdown",
      "metadata": {
        "id": "QSyxvKMmhtm5"
      },
      "source": [
        "# Web Crawling\n",
        "\n",
        "Web crawling adalah proses otomatis untuk menjelajahi dan mengumpulkan data dari halaman-halaman web menggunakan program yang disebut **web crawler** atau **spider**. Tujuannya biasanya untuk mengindeks konten website agar bisa dicari atau dianalisis lebih lanjut.\n"
      ]
    },
    {
      "cell_type": "code",
      "execution_count": 1,
      "metadata": {
        "colab": {
          "base_uri": "https://localhost:8080/"
        },
        "id": "0v4yEjjPb6B9",
        "outputId": "f15f4e42-bcdc-4a0d-f1c8-e62b682f7885"
      },
      "outputs": [
        {
          "name": "stdout",
          "output_type": "stream",
          "text": [
            "\n",
            "\u001b[1m[\u001b[0m\u001b[34;49mnotice\u001b[0m\u001b[1;39;49m]\u001b[0m\u001b[39;49m A new release of pip is available: \u001b[0m\u001b[31;49m25.1.1\u001b[0m\u001b[39;49m -> \u001b[0m\u001b[32;49m25.2\u001b[0m\n",
            "\u001b[1m[\u001b[0m\u001b[34;49mnotice\u001b[0m\u001b[1;39;49m]\u001b[0m\u001b[39;49m To update, run: \u001b[0m\u001b[32;49mpython3 -m pip install --upgrade pip\u001b[0m\n"
          ]
        }
      ],
      "source": [
        "!pip install -q sprynger"
      ]
    },
    {
      "cell_type": "markdown",
      "metadata": {
        "id": "WzNQOHpZiGND"
      },
      "source": [
        "Perintah `!pip install -q sprynger` dipakai untuk **memasang paket Python `sprynger`**, dengan `-q` agar proses instalasinya **tidak banyak menampilkan teks di layar**.\n"
      ]
    },
    {
      "cell_type": "code",
      "execution_count": 2,
      "metadata": {
        "id": "1ML4gMWDcGRA"
      },
      "outputs": [],
      "source": [
        "import requests\n",
        "import pandas as pd"
      ]
    },
    {
      "cell_type": "markdown",
      "metadata": {
        "id": "9eBPCRrBigvZ"
      },
      "source": [
        "\n",
        "* `requests` → Digunakan untuk **mengirim permintaan HTTP** ke website atau API, misalnya untuk mengambil data dari internet.\n",
        "* `pandas` → Digunakan untuk **mengolah data dalam bentuk tabel** (DataFrame), serta memudahkan menyimpan atau membaca data dari file CSV, Excel, dll.\n"
      ]
    },
    {
      "cell_type": "code",
      "execution_count": 3,
      "metadata": {
        "colab": {
          "base_uri": "https://localhost:8080/"
        },
        "id": "36yJcx6ljBvi",
        "outputId": "c14d06b0-d43e-4270-9629-c375a8f2c092"
      },
      "outputs": [
        {
          "name": "stdout",
          "output_type": "stream",
          "text": [
            "Kata kunci: web mining | Total hasil: 318230\n",
            "\n",
            "DOI: 10.1007/s44174-025-00279-4\n",
            "Title: Exploring Multimodal Framework of Optimized Feature-Based Machine Learning to Revolutionize the Diagnosis of Parkinson’s Disease: AI-Driven Insights\n",
            "Abstract: Parkinson’s disease (PD), a progressive neurodegenerative disorder, poses significant challenges to healthcare systems worldwide due to its increasing prevalence and need for early detection to improve patient outcomes. This study introduces a robust diagnostic framework leveraging a multimodal feature selection approach, combining Minimum Redundancy Maximum Relevance (mRMR) with Recursive Feature Elimination (RFE), to optimize predictive accuracy in detecting PD. Using a dataset of 894 instances from the UCI Machine Learning Repository, the framework implemented comprehensive data preprocessing and feature selection techniques to refine input features. The Extra Trees classifier, integrated with the mRMR-RFE multimodal feature selection method, demonstrated superior performance over nine other machine learning models, achieving a perfect accuracy of 100%, with high specificity, sensitivity, precision, and F1 scores. This framework highlights the efficacy of ensemble learning methods and feature optimization in healthcare, ensuring computational efficiency and high predictive reliability. By addressing the challenges of dimensionality reduction and ensuring precise predictions, the proposed model sets a benchmark for machine learning applications in PD diagnosis. The results emphasize the potential of this framework to facilitate early detection and support clinical decision making, with significant implications for advancing AI-driven healthcare systems.\n",
            "\n",
            "DOI: 10.1007/s44174-025-00308-2\n",
            "Title: Development of Toughened Poly (lactic acid) by Melt Blending with Poly (butylene adipate-co-terephthalate) Using Epoxidized Castor Oil as a Compatibilizer for Biomedical Applications\n",
            "Abstract: Poly (lactic acid) (PLA) is a bioderived and biodegradable thermoplastic widely used in various applications; however, its brittleness limits its mechanical performance. To address this issue, this study develops fully biodegradable PLA/Poly (butylene adipate-co-terephthalate) (PBAT) blends compatibilized with epoxidized castor oil (ECO), providing a sustainable alternative to conventional non-biodegradable compatibilizers. PLA/PBAT blends with varying ECO concentrations (0.5, 1.0, and 1.5%) were prepared via melt mixing and characterized using multiple techniques. Fourier transform infrared (FTIR) spectroscopy confirmed effective interactions between ECO, PLA, and PBAT, enhancing compatibility. Thermal properties were analyzed using differential scanning calorimetry (DSC), while contact angle measurements demonstrated an increase in hydrophilicity, confirming their suitability for biomedical applications. Mechanical testing revealed that PLA/PBAT blends with 1.0% ECO exhibited significantly improved elongation at break and impact strength without compromising tensile strength. Field emission scanning electron microscopy (FESEM) showed uniform PBAT dispersion and enhanced interfacial morphology. Furthermore, cell proliferation, adhesion activity, and hemocompatibility assessments confirmed excellent biocompatibility, highlighting their potential for biomedical use. These findings suggest that ECO-modified PLA/PBAT blends offer a promising route for developing high-performance, biodegradable materials suitable for biomedical applications.\n",
            "\n",
            "DOI: 10.1007/978-3-032-00983-8_5\n",
            "Title: Survey on Data Mining and Machine Learning Methods Used in Analyzing Tweets\n",
            "Abstract: It is observed that the Mental illness by the actions and individual emotions and expressions towards a particular situation. It indicates that American Psychiatric Association that has 19% of people experience mental illness. Nearly 4.1% of people [ 1 ] are seriously affected by mental illness. In 2019, World Health Organization(WHO) reported that 264 million people suffer from mental disorders. With the technological growth and affordable internet access, social media usage and impacts are increased in society. Users use social networks to show their emotions, views, and comments related to mental health on various events and themselves. Different intelligent methods that analyze tweets related to depression are summarized. New research areas in analyzing data on social networks are discussed. This article highlights the data mining and machine learning methods associated with mental health using Twitter data.\n",
            "\n",
            "DOI: 10.1007/978-3-031-93802-3_7\n",
            "Title: Unveiling Power Laws in Graph Mining: Techniques and Applications in Graph Query Analysis\n",
            "Abstract: Power laws play a crucial role in understanding the structural and functional properties of real-world graphs, influencing various aspects of graph mining and query processing. This paper explores the prevalence of power-law distributions in large-scale graph structures and their implications for graph query analysis. We investigate techniques for efficiently mining graphs that exhibit power-law characteristics, leveraging these distributions to optimize query performance and scalability. Our study presents a comprehensive review of existing methodologies for detecting power-law behavior in graphs, highlighting their impact on graph traversal, indexing, and query execution. We also examine algorithmic optimizations tailored for power-law graphs, including degree-based indexing, community-aware search techniques, and efficient subgraph matching approaches. Furthermore, we discuss the applications of power-law principles in diverse domains such as social network analysis, bioinformatics, and knowledge graphs. Through empirical analysis on real-world datasets, we demonstrate how power-law-aware techniques improve query efficiency and reduce computational complexity in large graph databases. The findings of this study offer valuable insights into the interplay between graph topology and query optimization, paving the way for enhanced graph mining frameworks. Our work contributes to the development of more scalable and intelligent graph query processing systems, with broad implications for data-driven decision-making.\n",
            "\n",
            "DOI: 10.1007/978-981-96-7238-7_2\n",
            "Title: Architecture Mining Approach for Systems-of-Systems: Monitoring and Discovery\n",
            "Abstract: Context: Systems of Systems (SoS) constitute a type of complex software systems resulting from integrating heterogeneous constituent systems that are independently operable on their own but are networked together for a common goal. Each constituent system has its own purpose and could operate and collaborate voluntarily with other constituent systems to achieve a common goal that cannot be treated by any of them in isolation. Objective: A constituent system may be deployed or undeployed at run-time within an SoS. Emergent behaviors may be undesirable and affect the behaviors of each constituent system and lead to unexpected operations and a lack of permanent status in the SoS. Thus, we need to continuously extract and represent the actual behaviors within the SoS at run-time. Method: In this paper, we implement the first step our “Architecture Mining” approach. Thus, we monitor an SoS and develop Discovery algorithm to extract the actual behaviors. The actual behaviors are presented by a “Discovered Model” dynamically and automatically built from the execution traces. Results: To implement our approach, we applied it to a case study entitled Smart City, which is an SoS including six types of constituent systems. We extracted the actual behaviors executed at run time from the SoS execution traces, which have never been modeled in any constituent system nor expected by the designer.\n",
            "\n",
            "DOI: 10.1007/978-3-031-95296-8_15\n",
            "Title: A Mathematical Model and Algorithm for Data Analysis in the Intelligent Management System for Mining and Transport Complexes\n",
            "Abstract: Machine learning methods play an important role in creating algorithms for data analysis in the mining industry. These methods allow you to train the system based on historical data and identify hidden patterns that may not be obvious in traditional analysis. Machine learning algorithms can be used to predict breakdowns, optimize production processes and identify anomalies in the operation of machinery. For example, with the help of training on data on the operation of equipment, you can create a model that will predict the probability of failure of a certain part under specified operating conditions.\n",
            "\n",
            "Kata kunci: web usage mining | Total hasil: 91079\n",
            "\n",
            "DOI: 10.1007/s44174-025-00279-4\n",
            "Title: Exploring Multimodal Framework of Optimized Feature-Based Machine Learning to Revolutionize the Diagnosis of Parkinson’s Disease: AI-Driven Insights\n",
            "Abstract: Parkinson’s disease (PD), a progressive neurodegenerative disorder, poses significant challenges to healthcare systems worldwide due to its increasing prevalence and need for early detection to improve patient outcomes. This study introduces a robust diagnostic framework leveraging a multimodal feature selection approach, combining Minimum Redundancy Maximum Relevance (mRMR) with Recursive Feature Elimination (RFE), to optimize predictive accuracy in detecting PD. Using a dataset of 894 instances from the UCI Machine Learning Repository, the framework implemented comprehensive data preprocessing and feature selection techniques to refine input features. The Extra Trees classifier, integrated with the mRMR-RFE multimodal feature selection method, demonstrated superior performance over nine other machine learning models, achieving a perfect accuracy of 100%, with high specificity, sensitivity, precision, and F1 scores. This framework highlights the efficacy of ensemble learning methods and feature optimization in healthcare, ensuring computational efficiency and high predictive reliability. By addressing the challenges of dimensionality reduction and ensuring precise predictions, the proposed model sets a benchmark for machine learning applications in PD diagnosis. The results emphasize the potential of this framework to facilitate early detection and support clinical decision making, with significant implications for advancing AI-driven healthcare systems.\n",
            "\n",
            "DOI: 10.1007/s44174-025-00308-2\n",
            "Title: Development of Toughened Poly (lactic acid) by Melt Blending with Poly (butylene adipate-co-terephthalate) Using Epoxidized Castor Oil as a Compatibilizer for Biomedical Applications\n",
            "Abstract: Poly (lactic acid) (PLA) is a bioderived and biodegradable thermoplastic widely used in various applications; however, its brittleness limits its mechanical performance. To address this issue, this study develops fully biodegradable PLA/Poly (butylene adipate-co-terephthalate) (PBAT) blends compatibilized with epoxidized castor oil (ECO), providing a sustainable alternative to conventional non-biodegradable compatibilizers. PLA/PBAT blends with varying ECO concentrations (0.5, 1.0, and 1.5%) were prepared via melt mixing and characterized using multiple techniques. Fourier transform infrared (FTIR) spectroscopy confirmed effective interactions between ECO, PLA, and PBAT, enhancing compatibility. Thermal properties were analyzed using differential scanning calorimetry (DSC), while contact angle measurements demonstrated an increase in hydrophilicity, confirming their suitability for biomedical applications. Mechanical testing revealed that PLA/PBAT blends with 1.0% ECO exhibited significantly improved elongation at break and impact strength without compromising tensile strength. Field emission scanning electron microscopy (FESEM) showed uniform PBAT dispersion and enhanced interfacial morphology. Furthermore, cell proliferation, adhesion activity, and hemocompatibility assessments confirmed excellent biocompatibility, highlighting their potential for biomedical use. These findings suggest that ECO-modified PLA/PBAT blends offer a promising route for developing high-performance, biodegradable materials suitable for biomedical applications.\n",
            "\n",
            "DOI: 10.1007/978-3-031-90470-7_6\n",
            "Title: ‘Internet of Things’ and ‘Social Networking’: Containment\n",
            "Abstract: Moving to the post-2000 period, or the post-formation Internet Polity, this chapter begins with the implications of the internet becoming the centred repository of sources, medium of investigation, and object in historicist accounts of recent and contemporary events. Debates on ‘technological determinism Technological determinism ’ are considered here. As events, 9/11 and the 2000 dot-com crash are pegged as turning points. A broad argument is proposed about the condition of the Internet Polity thereafter. It is suggested that it became contained in two moves during the 2000s. This containment involved, first, a space of the internet opening beyond the scope of the Internet Polity. This space incorporated data exchanges between ‘smart’ objects, unsupervised systems, and machine-learning systems. Second, much of the Internet Polity discourse and collective life became concentrated in very large platforms, which have global reach, local penetration, and data-management standards. This move facilitated the burgeoning data market and fed into the first move. The two moves are outlined by focusing on two catchwords and related terms. The first is addressed via the connotations of ‘Internet of Things’ and ‘smart’ objects, and the second by pausing on ‘social networking’ (on ‘sites’ or ‘platforms’). This chapter, and the study, concludes by briefly reconsidering the formative first principles of the Internet Polity, and pinpointing areas for further investigations.\n",
            "\n",
            "DOI: 10.1007/978-3-032-00983-8_5\n",
            "Title: Survey on Data Mining and Machine Learning Methods Used in Analyzing Tweets\n",
            "Abstract: It is observed that the Mental illness by the actions and individual emotions and expressions towards a particular situation. It indicates that American Psychiatric Association that has 19% of people experience mental illness. Nearly 4.1% of people [ 1 ] are seriously affected by mental illness. In 2019, World Health Organization(WHO) reported that 264 million people suffer from mental disorders. With the technological growth and affordable internet access, social media usage and impacts are increased in society. Users use social networks to show their emotions, views, and comments related to mental health on various events and themselves. Different intelligent methods that analyze tweets related to depression are summarized. New research areas in analyzing data on social networks are discussed. This article highlights the data mining and machine learning methods associated with mental health using Twitter data.\n",
            "\n",
            "DOI: 10.1007/978-3-031-93802-3_7\n",
            "Title: Unveiling Power Laws in Graph Mining: Techniques and Applications in Graph Query Analysis\n",
            "Abstract: Power laws play a crucial role in understanding the structural and functional properties of real-world graphs, influencing various aspects of graph mining and query processing. This paper explores the prevalence of power-law distributions in large-scale graph structures and their implications for graph query analysis. We investigate techniques for efficiently mining graphs that exhibit power-law characteristics, leveraging these distributions to optimize query performance and scalability. Our study presents a comprehensive review of existing methodologies for detecting power-law behavior in graphs, highlighting their impact on graph traversal, indexing, and query execution. We also examine algorithmic optimizations tailored for power-law graphs, including degree-based indexing, community-aware search techniques, and efficient subgraph matching approaches. Furthermore, we discuss the applications of power-law principles in diverse domains such as social network analysis, bioinformatics, and knowledge graphs. Through empirical analysis on real-world datasets, we demonstrate how power-law-aware techniques improve query efficiency and reduce computational complexity in large graph databases. The findings of this study offer valuable insights into the interplay between graph topology and query optimization, paving the way for enhanced graph mining frameworks. Our work contributes to the development of more scalable and intelligent graph query processing systems, with broad implications for data-driven decision-making.\n",
            "\n",
            "DOI: 10.1007/978-3-032-02215-8_7\n",
            "Title: An Enhanced FP-Growth Algorithm with Hybrid Adaptive Support Threshold for Association Rule Mining\n",
            "Abstract: Finding frequent itemsets remains challenging due to manual threshold specification requirements in existing algorithms. This paper presents an Enhanced FP-Growth algorithm incorporating a hybrid adaptive support threshold that combines statistical variance analysis, frequency distribution patterns, and transaction density metrics. The algorithm automatically adjusts support levels based on dataset characteristics, eliminating manual threshold tuning. Experimental evaluation on five benchmark datasets against Aprior, FP-growth, and FP-Max shows our Enhanced FP-Growth consistently achieves superior execution time and improved memory efficiency. The hybrid threshold mechanism dynamically calibrates according to dataset characteristics, offering substantial efficiency gains across diverse data types.\n",
            "\n"
          ]
        }
      ],
      "source": [
        "import requests\n",
        "\n",
        "# API Key Springer Nature\n",
        "api_key = \"d6df4295af2e3cb62e7cec236b3c76d1\"\n",
        "\n",
        "# daftar kata kunci\n",
        "keywords = [\"web mining\", \"web usage mining\"]\n",
        "\n",
        "# alamat url\n",
        "url = \"https://api.springernature.com/meta/v2/json\"\n",
        "\n",
        "all_records = []\n",
        "\n",
        "for kw in keywords:\n",
        "    params = {\n",
        "        \"q\": kw,\n",
        "        \"api_key\": api_key,\n",
        "        \"p\": 6\n",
        "    }\n",
        "\n",
        "    try:\n",
        "        # kasih timeout 15 detik\n",
        "        response = requests.get(url, params=params, timeout=15)\n",
        "\n",
        "        if response.status_code == 200:\n",
        "            data = response.json()\n",
        "            print(f\"Kata kunci: {kw} | Total hasil: {data['result'][0]['total']}\\n\")\n",
        "\n",
        "            for record in data['records']:\n",
        "                doi = record.get('doi', 'N/A')\n",
        "                title = record.get('title', 'No title')\n",
        "                abstract = record.get('abstract', 'No abstract')\n",
        "\n",
        "                print(f\"DOI: {doi}\")\n",
        "                print(f\"Title: {title}\")\n",
        "                print(f\"Abstract: {abstract}\\n\")\n",
        "\n",
        "                all_records.append({\n",
        "                    \"Keyword\": kw,\n",
        "                    \"DOI\": doi,\n",
        "                    \"Title\": title,\n",
        "                    \"Abstract\": abstract\n",
        "                })\n",
        "        else:\n",
        "            print(\"Error:\", response.status_code, response.text)\n",
        "\n",
        "    except requests.exceptions.Timeout:\n",
        "        print(f\"⚠️ Timeout saat request kata kunci '{kw}'\")\n",
        "    except requests.exceptions.RequestException as e:\n",
        "        print(f\"⚠️ Error lain: {e}\")\n"
      ]
    },
    {
      "cell_type": "markdown",
      "metadata": {
        "id": "nJSqQtd3i5IC"
      },
      "source": [
        "Kode ini **mengambil data artikel dari Springer Nature untuk beberapa keyword sekaligus** dan menyimpannya ke list.\n",
        "\n",
        "1. `api_key` adalah kunci API untuk mengakses Springer Nature.\n",
        "2. `keywords` berisi daftar kata kunci: `\"web mining\"`, `\"web usage mining\"`, dan `\"web structure mining\"`.\n",
        "3. `url` adalah alamat endpoint API.\n",
        "4. `for kw in keywords:` → Looping tiap keyword:\n",
        "\n",
        "   * Siapkan parameter (`q`, `api_key`, `p`) untuk permintaan API.\n",
        "   * `requests.get` mengirim permintaan ke API.\n",
        "   * Jika berhasil (`status_code == 200`), ambil hasil JSON.\n",
        "   * Cetak total hasil untuk keyword tersebut.\n",
        "   * Loop tiap artikel (`record`) untuk ambil `doi`, `title`, dan `abstract`.\n",
        "   * Simpan semua artikel ke list `all_records` dengan keyword terkait.\n",
        "5. Jika gagal, cetak error dari API.\n",
        "\n",
        "Hasil akhirnya: `all_records` berisi **gabungan semua artikel dari ketiga keyword**.\n",
        "\n",
        "Kalau mau, aku bisa buat versi **yang langsung menyimpan tiap keyword ke CSV berbeda**, jadi tidak digabung.\n"
      ]
    },
    {
      "cell_type": "code",
      "execution_count": 4,
      "metadata": {
        "colab": {
          "base_uri": "https://localhost:8080/"
        },
        "id": "X3HZrZy3eO9Z",
        "outputId": "fe4791fe-0f75-426c-d431-3e0885069a04"
      },
      "outputs": [
        {
          "name": "stdout",
          "output_type": "stream",
          "text": [
            "✅ Semua hasil sudah disimpan ke Hasilcrawling.csv\n"
          ]
        }
      ],
      "source": [
        "# simpan ke CSV gabungan\n",
        "df = pd.DataFrame(all_records)\n",
        "df.to_csv(\"Hasilcrawling.csv\", index=False, encoding=\"utf-8\")\n",
        "print(\"✅ Semua hasil sudah disimpan ke Hasilcrawling.csv\")"
      ]
    },
    {
      "cell_type": "markdown",
      "metadata": {
        "id": "EWXOTNdtjfbx"
      },
      "source": [
        "Kode ini **menyimpan semua data artikel yang sudah dikumpulkan** ke dalam satu file CSV:\n",
        "\n",
        "1. `pd.DataFrame(all_records)` → Mengubah list `all_records` menjadi **tabel (DataFrame)**.\n",
        "2. `df.to_csv(\"Hasilcrawling.csv\", index=False, encoding=\"utf-8\")` → Menyimpan DataFrame ke file CSV bernama `Hasilcrawling.csv` tanpa menulis indeks baris dan menggunakan encoding UTF-8.\n",
        "3. `print(...)` → Memberi tanda bahwa penyimpanan berhasil.\n",
        "\n",
        "Hasilnya: **satu file CSV berisi semua artikel dari semua keyword**.\n"
      ]
    }
  ],
  "metadata": {
    "colab": {
      "provenance": []
    },
    "kernelspec": {
      "display_name": "Python 3",
      "language": "python",
      "name": "python3"
    },
    "language_info": {
      "codemirror_mode": {
        "name": "ipython",
        "version": 3
      },
      "file_extension": ".py",
      "mimetype": "text/x-python",
      "name": "python",
      "nbconvert_exporter": "python",
      "pygments_lexer": "ipython3",
      "version": "3.12.1"
    }
  },
  "nbformat": 4,
  "nbformat_minor": 0
}
