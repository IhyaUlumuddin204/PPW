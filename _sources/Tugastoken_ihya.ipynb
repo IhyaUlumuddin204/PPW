{
  "cells": [
    {
      "cell_type": "markdown",
      "metadata": {
        "id": "uV78WGG9v02-"
      },
      "source": [
        "# Tugas Tokenisasi abstrak"
      ]
    },
    {
      "cell_type": "markdown",
      "metadata": {
        "id": "rm1b3HD-x2zP"
      },
      "source": [
        "# **Ambil Data PTA Informatika**"
      ]
    },
    {
      "cell_type": "code",
      "execution_count": 1,
      "metadata": {
        "id": "MqlytUi70Cnl"
      },
      "outputs": [],
      "source": [
        "import requests\n",
        "from bs4 import BeautifulSoup\n",
        "import pandas as pd\n",
        "import re, sys, time"
      ]
    },
    {
      "cell_type": "code",
      "execution_count": 2,
      "metadata": {
        "colab": {
          "base_uri": "https://localhost:8080/"
        },
        "id": "XjJXVhGE0FaV",
        "outputId": "feb6d39f-1074-45f9-e325-8439f35004b3"
      },
      "outputs": [
        {
          "name": "stdout",
          "output_type": "stream",
          "text": [
            "172\n"
          ]
        },
        {
          "name": "stderr",
          "output_type": "stream",
          "text": [
            "/home/codespace/.local/lib/python3.12/site-packages/soupsieve/css_parser.py:876: FutureWarning: The pseudo class ':contains' is deprecated, ':-soup-contains' should be used moving forward.\n",
            "  warnings.warn(  # noqa: B028\n"
          ]
        }
      ],
      "source": [
        "BASE_URL = \"https://pta.trunojoyo.ac.id/c_search/byprod\"\n",
        "def get_max_page(prodi_id):\n",
        "    url = f\"{BASE_URL}/{prodi_id}/1\"\n",
        "    r = requests.get(url)\n",
        "    soup = BeautifulSoup(r.content, \"html.parser\")\n",
        "\n",
        "    # Cari tombol >> (last page)\n",
        "    last_page = soup.select_one('ol.pagination a:contains(\"»\")')\n",
        "    if last_page and \"href\" in last_page.attrs:\n",
        "        href = last_page[\"href\"]\n",
        "        # Pecah URL -> ambil angka terakhir\n",
        "        max_page = int(href.split(\"/\")[-1])\n",
        "        return max_page\n",
        "\n",
        "    # fallback kalau pagination tidak ada\n",
        "    return 1\n",
        "print(get_max_page(10))"
      ]
    },
    {
      "cell_type": "code",
      "execution_count": 3,
      "metadata": {
        "id": "xm-Is9Lm0pKj"
      },
      "outputs": [],
      "source": [
        "def print_progress(prodi_id, prodi, current_page, total_pages):\n",
        "    percent = (current_page / total_pages) * 100\n",
        "    bar_length = 20\n",
        "    filled_length = int(bar_length * current_page // total_pages)\n",
        "    bar = '█' * filled_length + '-' * (bar_length - filled_length)\n",
        "    sys.stdout.write(f'\\r[{prodi_id}] {prodi} - Page {current_page}/{total_pages} [{bar}] {percent:.2f}%')\n",
        "    sys.stdout.flush()\n",
        "    if current_page == total_pages:\n",
        "        sys.stdout.write('\\n')"
      ]
    },
    {
      "cell_type": "code",
      "execution_count": 4,
      "metadata": {
        "colab": {
          "base_uri": "https://localhost:8080/",
          "height": 1000
        },
        "id": "dQYkUBCq1b4A",
        "outputId": "9f4a16da-2755-46c9-bb85-b03e3a89dd96"
      },
      "outputs": [
        {
          "name": "stdout",
          "output_type": "stream",
          "text": [
            "\n",
            "\n",
            "\n",
            "\n",
            "\n",
            "\n",
            "\n",
            "\n",
            "\n",
            "[10] Teknik Informatika - Page 172/172 [████████████████████] 100.00%\n",
            "\n",
            "\n",
            "✅ Data Teknik Informatika berhasil dikumpulkan!\n",
            "📊 Total entri: 858\n",
            "⏱️ Waktu eksekusi: 0 jam 27 menit 35 detik\n",
            "\n",
            "Preview 5 data teratas:\n",
            "             id                                              judul  \\\n",
            "0  040411100468  PERANCANGAN DAN IMPLEMENTASI SISTEM DATABASE \\...   \n",
            "1  040411100476  APLIKASI KONTROL DAN MONITORING JARINGAN KOMPU...   \n",
            "2  040411100480  RANCANG BANGUN APLIKASI PROXY SERVER UNTUK\\r\\n...   \n",
            "3  070411100070  SISTEM PENDUKUNG KEPUTUSAN OPTIMASI PENJADWALA...   \n",
            "4  080411100115  SISTEM AUGMENTED REALITY ANIMASI BENDA BERGERA...   \n",
            "\n",
            "                                          abstrak_id               prodi  \n",
            "0  Sistem  informasi  akademik  (SIAKAD) merupaka...  Teknik Informatika  \n",
            "1  Berjalannya koneksi jaringan komputer dengan l...  Teknik Informatika  \n",
            "2  Web server adalah sebuah perangkat lunak serve...  Teknik Informatika  \n",
            "3  Penjadwalan  kuliah  di  Perguruan  Tinggi  me...  Teknik Informatika  \n",
            "4  Seiring perkembangan teknologi yang ada diduni...  Teknik Informatika  \n"
          ]
        },
        {
          "data": {
            "text/html": [
              "<div>\n",
              "<style scoped>\n",
              "    .dataframe tbody tr th:only-of-type {\n",
              "        vertical-align: middle;\n",
              "    }\n",
              "\n",
              "    .dataframe tbody tr th {\n",
              "        vertical-align: top;\n",
              "    }\n",
              "\n",
              "    .dataframe thead th {\n",
              "        text-align: right;\n",
              "    }\n",
              "</style>\n",
              "<table border=\"1\" class=\"dataframe\">\n",
              "  <thead>\n",
              "    <tr style=\"text-align: right;\">\n",
              "      <th></th>\n",
              "      <th>id</th>\n",
              "      <th>judul</th>\n",
              "      <th>abstrak_id</th>\n",
              "      <th>prodi</th>\n",
              "    </tr>\n",
              "  </thead>\n",
              "  <tbody>\n",
              "    <tr>\n",
              "      <th>0</th>\n",
              "      <td>040411100468</td>\n",
              "      <td>PERANCANGAN DAN IMPLEMENTASI SISTEM DATABASE \\...</td>\n",
              "      <td>Sistem  informasi  akademik  (SIAKAD) merupaka...</td>\n",
              "      <td>Teknik Informatika</td>\n",
              "    </tr>\n",
              "    <tr>\n",
              "      <th>1</th>\n",
              "      <td>040411100476</td>\n",
              "      <td>APLIKASI KONTROL DAN MONITORING JARINGAN KOMPU...</td>\n",
              "      <td>Berjalannya koneksi jaringan komputer dengan l...</td>\n",
              "      <td>Teknik Informatika</td>\n",
              "    </tr>\n",
              "    <tr>\n",
              "      <th>2</th>\n",
              "      <td>040411100480</td>\n",
              "      <td>RANCANG BANGUN APLIKASI PROXY SERVER UNTUK\\r\\n...</td>\n",
              "      <td>Web server adalah sebuah perangkat lunak serve...</td>\n",
              "      <td>Teknik Informatika</td>\n",
              "    </tr>\n",
              "    <tr>\n",
              "      <th>3</th>\n",
              "      <td>070411100070</td>\n",
              "      <td>SISTEM PENDUKUNG KEPUTUSAN OPTIMASI PENJADWALA...</td>\n",
              "      <td>Penjadwalan  kuliah  di  Perguruan  Tinggi  me...</td>\n",
              "      <td>Teknik Informatika</td>\n",
              "    </tr>\n",
              "    <tr>\n",
              "      <th>4</th>\n",
              "      <td>080411100115</td>\n",
              "      <td>SISTEM AUGMENTED REALITY ANIMASI BENDA BERGERA...</td>\n",
              "      <td>Seiring perkembangan teknologi yang ada diduni...</td>\n",
              "      <td>Teknik Informatika</td>\n",
              "    </tr>\n",
              "    <tr>\n",
              "      <th>...</th>\n",
              "      <td>...</td>\n",
              "      <td>...</td>\n",
              "      <td>...</td>\n",
              "      <td>...</td>\n",
              "    </tr>\n",
              "    <tr>\n",
              "      <th>853</th>\n",
              "      <td>160411100032</td>\n",
              "      <td>PENERAPAN ALGORITMA LONG-SHORT TERM MEMORY UNT...</td>\n",
              "      <td>Investasi saham selama ini memiliki resiko ker...</td>\n",
              "      <td>Teknik Informatika</td>\n",
              "    </tr>\n",
              "    <tr>\n",
              "      <th>854</th>\n",
              "      <td>160411100182</td>\n",
              "      <td>SISTEM PENCARIAN TEKS AL-QURAN TERJEMAHAN BERB...</td>\n",
              "      <td>Information Retrieval (IR) merupakan pengambil...</td>\n",
              "      <td>Teknik Informatika</td>\n",
              "    </tr>\n",
              "    <tr>\n",
              "      <th>855</th>\n",
              "      <td>160411100077</td>\n",
              "      <td>KLASIFIKASI KOMPLEKSITAS VISUAL CITRA SAMPAH M...</td>\n",
              "      <td>Klasifikasi citra merupakan proses pengelompok...</td>\n",
              "      <td>Teknik Informatika</td>\n",
              "    </tr>\n",
              "    <tr>\n",
              "      <th>856</th>\n",
              "      <td>160411100084</td>\n",
              "      <td>IDENTIFIKASI BINER ATRIBUT PEJALAN KAKI MENGGU...</td>\n",
              "      <td>Identifikasi atribut pejalan kaki merupakan sa...</td>\n",
              "      <td>Teknik Informatika</td>\n",
              "    </tr>\n",
              "    <tr>\n",
              "      <th>857</th>\n",
              "      <td>160411100044</td>\n",
              "      <td>DETEKSI OBJEK MANUSIA BERBASIS ONE STAGE DETEC...</td>\n",
              "      <td>Topik deteksi objek telah menarik perhatian ya...</td>\n",
              "      <td>Teknik Informatika</td>\n",
              "    </tr>\n",
              "  </tbody>\n",
              "</table>\n",
              "<p>858 rows × 4 columns</p>\n",
              "</div>"
            ],
            "text/plain": [
              "               id                                              judul  \\\n",
              "0    040411100468  PERANCANGAN DAN IMPLEMENTASI SISTEM DATABASE \\...   \n",
              "1    040411100476  APLIKASI KONTROL DAN MONITORING JARINGAN KOMPU...   \n",
              "2    040411100480  RANCANG BANGUN APLIKASI PROXY SERVER UNTUK\\r\\n...   \n",
              "3    070411100070  SISTEM PENDUKUNG KEPUTUSAN OPTIMASI PENJADWALA...   \n",
              "4    080411100115  SISTEM AUGMENTED REALITY ANIMASI BENDA BERGERA...   \n",
              "..            ...                                                ...   \n",
              "853  160411100032  PENERAPAN ALGORITMA LONG-SHORT TERM MEMORY UNT...   \n",
              "854  160411100182  SISTEM PENCARIAN TEKS AL-QURAN TERJEMAHAN BERB...   \n",
              "855  160411100077  KLASIFIKASI KOMPLEKSITAS VISUAL CITRA SAMPAH M...   \n",
              "856  160411100084  IDENTIFIKASI BINER ATRIBUT PEJALAN KAKI MENGGU...   \n",
              "857  160411100044  DETEKSI OBJEK MANUSIA BERBASIS ONE STAGE DETEC...   \n",
              "\n",
              "                                            abstrak_id               prodi  \n",
              "0    Sistem  informasi  akademik  (SIAKAD) merupaka...  Teknik Informatika  \n",
              "1    Berjalannya koneksi jaringan komputer dengan l...  Teknik Informatika  \n",
              "2    Web server adalah sebuah perangkat lunak serve...  Teknik Informatika  \n",
              "3    Penjadwalan  kuliah  di  Perguruan  Tinggi  me...  Teknik Informatika  \n",
              "4    Seiring perkembangan teknologi yang ada diduni...  Teknik Informatika  \n",
              "..                                                 ...                 ...  \n",
              "853  Investasi saham selama ini memiliki resiko ker...  Teknik Informatika  \n",
              "854  Information Retrieval (IR) merupakan pengambil...  Teknik Informatika  \n",
              "855  Klasifikasi citra merupakan proses pengelompok...  Teknik Informatika  \n",
              "856  Identifikasi atribut pejalan kaki merupakan sa...  Teknik Informatika  \n",
              "857  Topik deteksi objek telah menarik perhatian ya...  Teknik Informatika  \n",
              "\n",
              "[858 rows x 4 columns]"
            ]
          },
          "execution_count": 4,
          "metadata": {},
          "output_type": "execute_result"
        }
      ],
      "source": [
        "import time, re, sys, requests, pandas as pd\n",
        "from bs4 import BeautifulSoup\n",
        "\n",
        "BASE_URL = \"https://pta.trunojoyo.ac.id/c_search/byprod\"  # tetap\n",
        "\n",
        "def pta_ti_only():\n",
        "    start_time = time.time()\n",
        "\n",
        "    data = {\n",
        "        \"id\": [],\n",
        "        \"judul\": [],\n",
        "        \"abstrak_id\": [],\n",
        "        \"prodi\": []\n",
        "    }\n",
        "\n",
        "    # Teknik Informatika = 10 di situs (byprod/10/halaman)\n",
        "    total_prodi = 10  # tetap pakai 1..10, tapi difilter nama prodi\n",
        "    total_pages = 0\n",
        "    max_pages_dict = {}\n",
        "\n",
        "    for i in range(1, total_prodi + 1):\n",
        "        max_page = get_max_page(i)\n",
        "        max_pages_dict[i] = max_page\n",
        "        total_pages += max_page\n",
        "\n",
        "    for i in range(1, total_prodi + 1):\n",
        "        max_page = max_pages_dict[i]\n",
        "\n",
        "        for j in range(1, max_page + 1):\n",
        "            url = f\"{BASE_URL}/{i}/{j}\"\n",
        "            r = requests.get(url, timeout=30)\n",
        "            soup = BeautifulSoup(r.content, \"html.parser\")\n",
        "\n",
        "            isii = soup.select_one('div#begin')\n",
        "            if not isii:\n",
        "                continue\n",
        "            prodi_full = isii.select_one('h2').text.strip()\n",
        "            prodi = prodi_full.replace(\"Journal Jurusan \", \"\")\n",
        "\n",
        "            if prodi.lower() != \"teknik informatika\":\n",
        "                continue  # hanya TI\n",
        "\n",
        "            jurnals = soup.select('li[data-cat=\"#luxury\"]')\n",
        "\n",
        "            for jurnal in jurnals:\n",
        "                a_tag = jurnal.select_one('a.gray.button')\n",
        "                if not a_tag or not a_tag.has_attr('href'):\n",
        "                    continue\n",
        "                link_keluar = a_tag['href']\n",
        "\n",
        "                id_match = re.search(r\"/detail/(\\d+)\", link_keluar)\n",
        "                pta_id = id_match.group(1) if id_match else None\n",
        "\n",
        "                response = requests.get(link_keluar, timeout=30)\n",
        "                soup1 = BeautifulSoup(response.content, \"html.parser\")\n",
        "                isi = soup1.select_one('div#content_journal')\n",
        "                if not isi:\n",
        "                    continue\n",
        "\n",
        "                t = isi.select_one('a.title')\n",
        "                judul = t.text.strip() if t else \"N/A\"\n",
        "\n",
        "                # ambil abstrak Indonesia saja sesuai kebutuhan\n",
        "                paragraf = isi.select('p[align=\"justify\"]')\n",
        "                abstrak_id = paragraf[0].get_text(strip=True) if len(paragraf) > 0 else \"N/A\"\n",
        "\n",
        "                data[\"id\"].append(pta_id)\n",
        "                data[\"judul\"].append(judul)\n",
        "                data[\"abstrak_id\"].append(abstrak_id)\n",
        "                data[\"prodi\"].append(prodi)\n",
        "\n",
        "            print_progress(i, prodi, j, max_page)\n",
        "\n",
        "        sys.stdout.write(\"\\n\")\n",
        "\n",
        "    df = pd.DataFrame(data)\n",
        "    # simpan pakai nama yang diminta\n",
        "    df.to_csv(\"pta_informatika.csv\", index=False, encoding=\"utf-8-sig\")\n",
        "\n",
        "    elapsed = int(time.time() - start_time)\n",
        "    jam, sisa = divmod(elapsed, 3600)\n",
        "    menit, detik = divmod(sisa, 60)\n",
        "\n",
        "    print(\"\\n✅ Data Teknik Informatika berhasil dikumpulkan!\")\n",
        "    print(f\"📊 Total entri: {len(df)}\")\n",
        "    print(f\"⏱️ Waktu eksekusi: {jam} jam {menit} menit {detik} detik\")\n",
        "\n",
        "    # tampilkan 5 baris saja\n",
        "    print(\"\\nPreview 5 data teratas:\")\n",
        "    print(df.head(5))\n",
        "\n",
        "    return df\n",
        "\n",
        "# jalankan\n",
        "pta_ti_only()\n"
      ]
    },
    {
      "cell_type": "markdown",
      "metadata": {
        "id": "ZNNGKnw4yGe5"
      },
      "source": [
        "# **Tokenisasi**"
      ]
    },
    {
      "cell_type": "code",
      "execution_count": 15,
      "metadata": {
        "colab": {
          "base_uri": "https://localhost:8080/",
          "height": 211
        },
        "id": "d0FI8J7pv_C-",
        "outputId": "1abe10c5-353e-4e3c-c44b-d93a03dcaf94"
      },
      "outputs": [
        {
          "name": "stdout",
          "output_type": "stream",
          "text": [
            "=== Preview Teks Abstrak Gabungan ===\n",
            "Sistem  informasi  akademik  (SIAKAD) merupakan  sistem  informasi  yang  berfungsi  menangani pengelolaan  dan  penyajian  data-data  akademik,  yang  oleh pihak  fakultas  SIAKAD  dianggap  sangat  penting  dalam memberikan  pelayanan  mahasiswa  yang  membutuhkan informasi akademik. Di Universitas Trunojoyo telah tersedia SIAKAD,  namun  masih  menggunakan  database  terpusat. Sistem seperti ini memberikan kelebihan yaitu perawatannya mudah  selain  itu  juga  membutuhkan  sedikit  biaya,  na\n",
            "\n",
            "=== Preview Hasil Tokenisasi (5 kata pertama) ===\n",
            "['sistem', 'informasi', 'akademik', 'siakad', 'merupakan', 'sistem', 'informasi', 'yang', 'berfungsi', 'menangani', 'pengelolaan', 'dan', 'penyajian', 'data', 'data', 'akademik', 'yang', 'oleh', 'pihak', 'fakultas', 'siakad', 'dianggap', 'sangat', 'penting', 'dalam']\n",
            "\n",
            "✅ Tokenisasi selesai, total kata: 144883\n"
          ]
        }
      ],
      "source": [
        "import pandas as pd\n",
        "import re\n",
        "\n",
        "# 1. Baca data hasil scraping\n",
        "df = pd.read_csv(\"pta_informatika.csv\")\n",
        "\n",
        "# 2. Gabungkan semua abstrak jadi satu teks panjang\n",
        "teks = \" \".join(df[\"abstrak_id\"].dropna().tolist())\n",
        "print(\"=== Preview Teks Abstrak Gabungan ===\")\n",
        "print(teks[:500])  # tampilkan 500 karakter pertama\n",
        "\n",
        "# 3. Tokenisasi manual pakai regex (ambil kata saja)\n",
        "tokens = re.findall(r'\\b\\w+\\b', teks.lower())\n",
        "\n",
        "# 4. Print preview 5 token pertama\n",
        "print(\"\\n=== Preview Hasil Tokenisasi (5 kata pertama) ===\")\n",
        "print(tokens[:25])\n",
        "\n",
        "print(\"\\n✅ Tokenisasi selesai, total kata:\", len(tokens))\n"
      ]
    },
    {
      "cell_type": "markdown",
      "metadata": {
        "id": "cOOVjTcL8G6p"
      },
      "source": [
        "# **Stopword Removal**"
      ]
    },
    {
      "cell_type": "code",
      "execution_count": 11,
      "metadata": {},
      "outputs": [
        {
          "name": "stdout",
          "output_type": "stream",
          "text": [
            "Collecting Sastrawi\n",
            "  Downloading Sastrawi-1.0.1-py2.py3-none-any.whl.metadata (909 bytes)\n",
            "Collecting pyspellchecker\n",
            "  Downloading pyspellchecker-0.8.3-py3-none-any.whl.metadata (9.5 kB)\n",
            "Downloading Sastrawi-1.0.1-py2.py3-none-any.whl (209 kB)\n",
            "Downloading pyspellchecker-0.8.3-py3-none-any.whl (7.2 MB)\n",
            "\u001b[2K   \u001b[90m━━━━━━━━━━━━━━━━━━━━━━━━━━━━━━━━━━━━━━━━\u001b[0m \u001b[32m7.2/7.2 MB\u001b[0m \u001b[31m49.3 MB/s\u001b[0m eta \u001b[36m0:00:00\u001b[0m\n",
            "\u001b[?25hInstalling collected packages: Sastrawi, pyspellchecker\n",
            "\u001b[2K   \u001b[90m━━━━━━━━━━━━━━━━━━━━━━━━━━━━━━━━━━━━━━━━\u001b[0m \u001b[32m2/2\u001b[0m [pyspellchecker]\n",
            "\u001b[1A\u001b[2KSuccessfully installed Sastrawi-1.0.1 pyspellchecker-0.8.3\n",
            "\n",
            "\u001b[1m[\u001b[0m\u001b[34;49mnotice\u001b[0m\u001b[1;39;49m]\u001b[0m\u001b[39;49m A new release of pip is available: \u001b[0m\u001b[31;49m25.1.1\u001b[0m\u001b[39;49m -> \u001b[0m\u001b[32;49m25.2\u001b[0m\n",
            "\u001b[1m[\u001b[0m\u001b[34;49mnotice\u001b[0m\u001b[1;39;49m]\u001b[0m\u001b[39;49m To update, run: \u001b[0m\u001b[32;49mpython -m pip install --upgrade pip\u001b[0m\n",
            "Note: you may need to restart the kernel to use updated packages.\n"
          ]
        }
      ],
      "source": [
        "pip install Sastrawi pyspellchecker\n"
      ]
    },
    {
      "cell_type": "code",
      "execution_count": 12,
      "metadata": {},
      "outputs": [],
      "source": [
        "from Sastrawi.Stemmer.StemmerFactory import StemmerFactory\n",
        "from Sastrawi.StopWordRemover.StopWordRemoverFactory import StopWordRemoverFactory\n",
        "from spellchecker import SpellChecker\n",
        "from collections import Counter"
      ]
    },
    {
      "cell_type": "code",
      "execution_count": null,
      "metadata": {
        "id": "d6mmmu6P8MEW"
      },
      "outputs": [
        {
          "name": "stdout",
          "output_type": "stream",
          "text": [
            "\n",
            "=== Setelah Stopword Removal (5 kata pertama) ===\n",
            "['sistem', 'informasi', 'akademik', 'siakad', 'merupakan', 'sistem', 'informasi', 'berfungsi', 'menangani', 'pengelolaan', 'penyajian', 'data', 'data', 'akademik', 'pihak', 'fakultas', 'siakad', 'dianggap', 'sangat', 'penting', 'memberikan', 'pelayanan', 'mahasiswa', 'membutuhkan', 'informasi']\n"
          ]
        }
      ],
      "source": [
        "# 4. Stopword Removal\n",
        "stop_factory = StopWordRemoverFactory()\n",
        "stopwords = set(stop_factory.get_stop_words())\n",
        "tokens_no_stop = [t for t in tokens if t not in stopwords]\n",
        "print(\"\\n=== Setelah Stopword Removal (25 kata pertama) ===\")\n",
        "print(tokens_no_stop[:25])"
      ]
    },
    {
      "cell_type": "markdown",
      "metadata": {
        "id": "EqDXoK9L8Ol7"
      },
      "source": [
        "# **Stemming**"
      ]
    },
    {
      "cell_type": "code",
      "execution_count": null,
      "metadata": {
        "id": "fmurvSBu8TyL"
      },
      "outputs": [
        {
          "name": "stdout",
          "output_type": "stream",
          "text": [
            "\n",
            "=== Setelah Stemming (5 kata pertama) ===\n",
            "['sistem', 'informasi', 'akademik', 'siakad', 'rupa', 'sistem', 'informasi', 'fungsi', 'tangan', 'kelola', 'saji', 'data', 'data', 'akademik', 'pihak', 'fakultas', 'siakad', 'anggap', 'sangat', 'penting', 'beri', 'layan', 'mahasiswa', 'butuh', 'informasi']\n"
          ]
        }
      ],
      "source": [
        "factory = StemmerFactory()\n",
        "stemmer = factory.create_stemmer()\n",
        "tokens_stemmed = [stemmer.stem(t) for t in tokens_no_stop]\n",
        "print(\"\\n=== Setelah Stemming (25 kata pertama) ===\")\n",
        "print(tokens_stemmed[:25])\n"
      ]
    },
    {
      "cell_type": "markdown",
      "metadata": {
        "id": "MgV4CYHv8WTa"
      },
      "source": [
        "# **Cek Ejaan**"
      ]
    },
    {
      "cell_type": "code",
      "execution_count": 14,
      "metadata": {
        "id": "horTGpsD8V6p"
      },
      "outputs": [
        {
          "name": "stdout",
          "output_type": "stream",
          "text": [
            "=== Contoh 20 kata salah eja & saran ===\n",
            "Total token: 139450 | Salah eja terdeteksi: 0 | Setelah koreksi: 139450\n"
          ]
        }
      ],
      "source": [
        "# 1) Sumber token: pilih salah satu yang konsisten\n",
        "#    Rekomendasi: gunakan hasil stemming agar konsisten bentuk katanya\n",
        "#    Jika belum ada di kernel saat ini, bisa rebuild dari CSV\n",
        "import pandas as pd\n",
        "import re\n",
        "\n",
        "try:\n",
        "    tokens_source = tokensstemmed  # sudah dibuat di sel stemming sebelumnya\n",
        "except NameError:\n",
        "    # fallback: rebuild dari CSV\n",
        "    df = pd.read_csv(\"pta_informatika.csv\")\n",
        "    teks = \" \".join([s.strip() for s in df[\"abstrak_id\"].dropna().astype(str) if s.strip()]).lower()\n",
        "    tokens_source = re.findall(r\"[a-zA-Záéíóúàèìòùâêîôûäëïöüñ\\-]+\", teks)  # regex kata\n",
        "    # optional: lakukan stopword + stemming lagi jika perlu\n",
        "\n",
        "# 2) Inisialisasi spell checker\n",
        "from spellchecker import SpellChecker\n",
        "spell = SpellChecker(language=None)  # no default language\n",
        "\n",
        "# 3) Bangun kamus dasar dari korpus sendiri (unsupervised):\n",
        "#    - tambahkan semua token unik sebagai known words agar nama teknis tidak dianggap salah\n",
        "#    - tetap biarkan spellchecker mendeteksi token aneh/typo langka\n",
        "vocab = set(tokens_source)\n",
        "spell.word_frequency.load_words(vocab)\n",
        "\n",
        "# 4) Temukan kata yang dianggap salah eja\n",
        "misspelled = spell.unknown(tokens_source)\n",
        "\n",
        "# 5) Usulkan koreksi (heuristik sederhana)\n",
        "suggestions = {}\n",
        "for word in list(misspelled)[:1000]:  # batasi agar cepat; hapus batas jika ingin lengkap\n",
        "    correction = spell.correction(word)\n",
        "    if correction and correction != word:\n",
        "        suggestions[word] = correction\n",
        "\n",
        "print(\"=== Contoh 20 kata salah eja & saran ===\")\n",
        "for i, (w, c) in enumerate(list(suggestions.items())[:20], start=1):\n",
        "    print(f\"{i}. {w} -> {c}\")\n",
        "\n",
        "# 6) Terapkan koreksi ringan: hanya ganti jika confidence relatif masuk akal\n",
        "def correct_token(t):\n",
        "    if t in suggestions:\n",
        "        return suggestions[t]\n",
        "    return t\n",
        "\n",
        "tokens_checked = [correct_token(t) for t in tokens_source]\n",
        "\n",
        "print(f\"Total token: {len(tokens_source)} | Salah eja terdeteksi: {len(misspelled)} | Setelah koreksi: {len(tokens_checked)}\")\n"
      ]
    },
    {
      "cell_type": "markdown",
      "metadata": {
        "id": "kmVlXqVk8d4I"
      },
      "source": [
        "# **Hitung Frekuensi Kata**"
      ]
    },
    {
      "cell_type": "code",
      "execution_count": 16,
      "metadata": {
        "id": "2_UH29A18jZ9"
      },
      "outputs": [
        {
          "name": "stdout",
          "output_type": "stream",
          "text": [
            "=== 20 kata paling sering ===\n",
            "           kata  frekuensi\n",
            "0          yang       5580\n",
            "1           dan       3497\n",
            "2        dengan       2962\n",
            "3         untuk       2327\n",
            "4           ini       2171\n",
            "5         dalam       1930\n",
            "6          pada       1869\n",
            "7          dari       1713\n",
            "8        sistem       1570\n",
            "9        metode       1401\n",
            "10  menggunakan       1350\n",
            "11        dapat       1262\n",
            "12        hasil       1170\n",
            "13         data       1086\n",
            "14           di        955\n",
            "15       adalah        954\n",
            "16   penelitian        867\n",
            "17        nilai        807\n",
            "18       proses        799\n",
            "19    digunakan        746\n"
          ]
        }
      ],
      "source": [
        "# 0) Jika belum ada tokens, rebuild cepat dari CSV\n",
        "import re, pandas as pd\n",
        "try:\n",
        "    tokens\n",
        "except NameError:\n",
        "    df = pd.read_csv(\"pta_informatika.csv\")\n",
        "    teks = \" \".join([s.strip() for s in df[\"abstrak_id\"].dropna().astype(str) if s.strip()]).lower()\n",
        "    tokens = re.findall(r\"[a-zA-Záéíóúàèìòùâêîôûäëïöüñ\\-]+\", teks)  # token sederhana huruf & hyphen\n",
        "\n",
        "# 1) Hitung frekuensi\n",
        "from collections import Counter\n",
        "freq = Counter(tokens)  # atau Counter(tokens_checked) jika pakai hasil koreksi ejaan\n",
        "\n",
        "# 2) Urutkan dari yang terbanyak\n",
        "freq_sorted = pd.DataFrame(freq.most_common(), columns=[\"kata\", \"frekuensi\"])\n",
        "\n",
        "# 3) Simpan ke CSV (UTF-8 BOM)\n",
        "freq_sorted.to_csv(\"frekuensi_kata_informatika.csv\", index=False, encoding=\"utf-8-sig\")\n",
        "\n",
        "# 4) Preview 20 teratas\n",
        "print(\"=== 20 kata paling sering ===\")\n",
        "print(freq_sorted.head(20))\n"
      ]
    },
    {
      "cell_type": "code",
      "execution_count": null,
      "metadata": {},
      "outputs": [],
      "source": []
    }
  ],
  "metadata": {
    "colab": {
      "provenance": []
    },
    "kernelspec": {
      "display_name": "Python 3",
      "name": "python3"
    },
    "language_info": {
      "codemirror_mode": {
        "name": "ipython",
        "version": 3
      },
      "file_extension": ".py",
      "mimetype": "text/x-python",
      "name": "python",
      "nbconvert_exporter": "python",
      "pygments_lexer": "ipython3",
      "version": "3.12.1"
    }
  },
  "nbformat": 4,
  "nbformat_minor": 0
}
